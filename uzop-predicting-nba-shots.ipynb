{
 "cells": [
  {
   "cell_type": "markdown",
   "id": "11166acc-791a-49dd-9297-8fefbbb0b561",
   "metadata": {},
   "source": [
    "# UZOP Projekt ; Predicting NBA Shots\n",
    "\n",
    "## Studenti:\n",
    "- Nikola Kraljevc\n",
    "- Ana Ujevic\n",
    "- Timon Rodic\n",
    "\n",
    "\n",
    "Rok za predaju prvog dijela projekta je 10.11.2023. 23:59\n",
    "\n",
    "Prvi dio projekta nosi 10 bodova.\n",
    "\n",
    "Za prvi rok predaje trebate: \n",
    "- dobro proučiti cijeli članak\n",
    "- upoznati se s podatcima\n",
    "- napraviti čiščenje i vizualizaciju podataka\n",
    "- Bitno mi je da provedete detaljnu deskriptivnu statistiku\n",
    "- da se upoznate s nedostajećim vrijednostima i da razmislite na koji bi način riješili problem s pojedinim nedostajećim vrijednostima\n",
    "- da napravite vizualizacije na način na koji smatrate da je najbolje uočiti informacije koje možemo izvući iz tih podataka.\n",
    "\n",
    "Dok to budete radili možete se voditi člankom, ali i ne morate. Bitno je samo da se dobro upoznate sa svakim dijelom dataseta. Za sve korake implementacije pišite komentare u jupyter notebook. "
   ]
  },
  {
   "cell_type": "markdown",
   "id": "59c7cd9c-3bdc-4502-ac38-cfbf7a951c40",
   "metadata": {},
   "source": []
  }
 ],
 "metadata": {
  "jupytext": {
   "formats": "ipynb,md"
  },
  "kernelspec": {
   "display_name": "Python 3 (ipykernel)",
   "language": "python",
   "name": "python3"
  },
  "language_info": {
   "codemirror_mode": {
    "name": "ipython",
    "version": 3
   },
   "file_extension": ".py",
   "mimetype": "text/x-python",
   "name": "python",
   "nbconvert_exporter": "python",
   "pygments_lexer": "ipython3",
   "version": "3.8.18"
  }
 },
 "nbformat": 4,
 "nbformat_minor": 5
}
